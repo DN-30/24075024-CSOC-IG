{
 "cells": [
  {
   "cell_type": "code",
   "execution_count": 2,
   "id": "8dd0dcb9",
   "metadata": {},
   "outputs": [],
   "source": [
    "import pandas as pd \n",
    "import numpy as np"
   ]
  },
  {
   "cell_type": "code",
   "execution_count": 47,
   "id": "6fa5df15",
   "metadata": {},
   "outputs": [],
   "source": [
    "df=pd.read_csv('./data/housing.csv')\n",
    "df.head()\n",
    "df.dropna(axis=0,inplace=  True)"
   ]
  },
  {
   "cell_type": "code",
   "execution_count": 48,
   "id": "9a903381",
   "metadata": {},
   "outputs": [
    {
     "name": "stdout",
     "output_type": "stream",
     "text": [
      "features=['longitude', 'latitude', 'housing_median_age', 'total_rooms', 'total_bedrooms', 'population', 'households', 'median_income']\n",
      "\n",
      "Normalized Training Data:\n",
      "       longitude  latitude  housing_median_age  total_rooms  total_bedrooms  \\\n",
      "0      -1.327281  1.051692            0.982139    -0.803793       -0.970301   \n",
      "1      -1.322290  1.042330           -0.606195     2.042080        1.348243   \n",
      "2      -1.332272  1.037649            1.855723    -0.535176       -0.825541   \n",
      "3      -1.337263  1.037649            1.855723    -0.623495       -0.718750   \n",
      "4      -1.337263  1.037649            1.855723    -0.461959       -0.611959   \n",
      "...          ...       ...                 ...          ...             ...   \n",
      "20635  -0.758299  1.800633           -0.288528    -0.444570       -0.388886   \n",
      "20636  -0.818192  1.805314           -0.844446    -0.887535       -0.920466   \n",
      "20637  -0.823183  1.777229           -0.923862    -0.175038       -0.125468   \n",
      "20638  -0.873094  1.777229           -0.844446    -0.355336       -0.305826   \n",
      "20639  -0.833165  1.749144           -1.003279     0.067953        0.185411   \n",
      "\n",
      "       population  households  median_income  \n",
      "0       -0.973296   -0.976809       2.345106  \n",
      "1        0.861318    1.670332       2.332575  \n",
      "2       -0.819749   -0.843406       1.782896  \n",
      "3       -0.765037   -0.733544       0.932947  \n",
      "4       -0.758860   -0.628914      -0.013143  \n",
      "...           ...         ...            ...  \n",
      "20635   -0.511774   -0.443196      -1.216697  \n",
      "20636   -0.943292   -1.008198      -0.692027  \n",
      "20637   -0.368817   -0.173773      -1.143143  \n",
      "20638   -0.603549   -0.393497      -1.055110  \n",
      "20639   -0.033486    0.079954      -0.780587  \n",
      "\n",
      "[20433 rows x 8 columns]\n",
      "20433 20433\n"
     ]
    }
   ],
   "source": [
    "Y_train=df['median_house_value']\n",
    "X_train=df.drop(['median_house_value'], axis=1)\n",
    "X_train.drop('ocean_proximity',axis=1,inplace=True)\n",
    "features=X_train.columns.tolist()\n",
    "print(f\"{features=}\\n\")\n",
    "# print(X_train)\n",
    "for cols in X_train.columns:\n",
    "    mu=X_train[cols].mean()\n",
    "    std1=X_train[cols].std()\n",
    "    X_train[cols]=(X_train[cols]-mu)/std1\n",
    "print(\"Normalized Training Data:\")\n",
    "print(X_train)\n",
    "\n",
    "X_train=[col.tolist() for col in X_train[features].values] #  converting to list \n",
    "# print(X_train[0])\n",
    "\n",
    "Y_train=[col.tolist() for col in Y_train.values] #  converting to list\n",
    "# print(type(Y_train))\n",
    "\n",
    "\n",
    "print(len(X_train), len(Y_train)) # 20640 20640\n"
   ]
  },
  {
   "cell_type": "code",
   "execution_count": 56,
   "id": "f70d3223",
   "metadata": {},
   "outputs": [
    {
     "name": "stdout",
     "output_type": "stream",
     "text": [
      "8\n",
      "[0.30154490873633377, 0.08210072644802391, 0.6518534209128393, 0.3157536501738688, 0.8415420173189453, 0.28854258791973375, 0.19896893010007333, 0.3051295527007303] \n",
      " 0.5715786676857636\n"
     ]
    }
   ],
   "source": [
    "# now we have the training data in the form of a python list \n",
    "import random\n",
    "#INITIALZING WEIGHTS AND BIAS\n",
    "w=[random.random() for _ in range(len(features))]\n",
    "# [1, 1, 1, 1, 1, 1, 1, 1]\n",
    "print(len(w))\n",
    "b=random.random()\n",
    "print(w,\"\\n\",b)"
   ]
  },
  {
   "cell_type": "code",
   "execution_count": null,
   "id": "481ad77f",
   "metadata": {},
   "outputs": [
    {
     "ename": "UnboundLocalError",
     "evalue": "cannot access local variable 'pred' where it is not associated with a value",
     "output_type": "error",
     "traceback": [
      "\u001b[0;31m---------------------------------------------------------------------------\u001b[0m",
      "\u001b[0;31mUnboundLocalError\u001b[0m                         Traceback (most recent call last)",
      "Cell \u001b[0;32mIn[71], line 37\u001b[0m\n\u001b[1;32m     35\u001b[0m         \u001b[38;5;66;03m# return cost\u001b[39;00m\n\u001b[1;32m     36\u001b[0m cost\u001b[38;5;241m=\u001b[39m[]\n\u001b[0;32m---> 37\u001b[0m gradient_descent(X_train[:\u001b[38;5;241m10000\u001b[39m],Y_train[:\u001b[38;5;241m10000\u001b[39m],w,b,cost_function,cost,\u001b[38;5;241m1000\u001b[39m,\u001b[38;5;241m1e-6\u001b[39m)\n\u001b[1;32m     38\u001b[0m \u001b[38;5;66;03m# w,b=w_new,b_new\u001b[39;00m\n\u001b[1;32m     39\u001b[0m \u001b[38;5;28mprint\u001b[39m(w,\u001b[38;5;124m\"\u001b[39m\u001b[38;5;130;01m\\n\u001b[39;00m\u001b[38;5;124m\"\u001b[39m,b)\n",
      "Cell \u001b[0;32mIn[71], line 18\u001b[0m, in \u001b[0;36mgradient_descent\u001b[0;34m(X_train, Y_train, w_1, b_1, cost_function, cost, iteration, alpha1)\u001b[0m\n\u001b[1;32m     16\u001b[0m \u001b[38;5;28;01mfor\u001b[39;00m p \u001b[38;5;129;01min\u001b[39;00m \u001b[38;5;28mrange\u001b[39m(iteration):\n\u001b[1;32m     17\u001b[0m     \u001b[38;5;28;01mif\u001b[39;00m(p\u001b[38;5;241m%\u001b[39m\u001b[38;5;241m100\u001b[39m):\n\u001b[0;32m---> 18\u001b[0m         cost\u001b[38;5;241m.\u001b[39mappend(cost_function(X_train,Y_train,w,b))\n\u001b[1;32m     19\u001b[0m     k\u001b[38;5;241m+\u001b[39m\u001b[38;5;241m=\u001b[39m\u001b[38;5;241m1\u001b[39m\n\u001b[1;32m     20\u001b[0m     dj_dw\u001b[38;5;241m=\u001b[39m[\u001b[38;5;241m0\u001b[39m \u001b[38;5;28;01mfor\u001b[39;00m _ \u001b[38;5;129;01min\u001b[39;00m \u001b[38;5;28mrange\u001b[39m(n)]\n",
      "Cell \u001b[0;32mIn[71], line 7\u001b[0m, in \u001b[0;36mcost_function\u001b[0;34m(X_train, Y_train, w, b)\u001b[0m\n\u001b[1;32m      5\u001b[0m \u001b[38;5;28;01mfor\u001b[39;00m i \u001b[38;5;129;01min\u001b[39;00m \u001b[38;5;28mrange\u001b[39m(m):\n\u001b[1;32m      6\u001b[0m     \u001b[38;5;28;01mfor\u001b[39;00m j \u001b[38;5;129;01min\u001b[39;00m \u001b[38;5;28mrange\u001b[39m(n):\n\u001b[0;32m----> 7\u001b[0m         pred \u001b[38;5;241m+\u001b[39m\u001b[38;5;241m=\u001b[39m X_train[i][j]\u001b[38;5;241m*\u001b[39mw[j]\n\u001b[1;32m      8\u001b[0m     cost\u001b[38;5;241m+\u001b[39m\u001b[38;5;241m=\u001b[39m (pred\u001b[38;5;241m+\u001b[39mb\u001b[38;5;241m-\u001b[39mY_train[i])\u001b[38;5;241m*\u001b[39m\u001b[38;5;241m*\u001b[39m\u001b[38;5;241m2\u001b[39m\n\u001b[1;32m      9\u001b[0m \u001b[38;5;28;01mreturn\u001b[39;00m cost\u001b[38;5;241m/\u001b[39mm\n",
      "\u001b[0;31mUnboundLocalError\u001b[0m: cannot access local variable 'pred' where it is not associated with a value"
     ]
    }
   ],
   "source": [
    "\n",
    "\n",
    "def cost_function(X_train,Y_train,w,b):\n",
    "    m=len(X_train)\n",
    "    n=len(X_train[0])\n",
    "    cost=0\n",
    "    for i in range(m):\n",
    "        for j in range(n):\n",
    "            pred += X_train[i][j]*w[j]\n",
    "        cost+= (pred+b-Y_train[i])**2\n",
    "    return cost/m\n",
    "def gradient_descent(X_train,Y_train,w_1,b_1,cost_function,cost,iteration=1000,alpha1=1e-8):\n",
    "    \n",
    "    m=len(X_train)\n",
    "    n=len(X_train[0])\n",
    "\n",
    "    k=0\n",
    "    for p in range(iteration):\n",
    "        if(p%100):\n",
    "            cost.append(cost_function(X_train,Y_train,w,b))\n",
    "        k+=1\n",
    "        dj_dw=[0 for _ in range(n)]\n",
    "        dj_db=0\n",
    "        for i in range(m):\n",
    "            pred=0\n",
    "            for j in range(n):\n",
    "                pred+= X_train[i][j]*w_1[j]\n",
    "            pred+=b_1\n",
    "            pred-=Y_train[i]\n",
    "            for j in range(n):\n",
    "                dj_dw[j]+=pred*X_train[i][j]/m\n",
    "            dj_db+=pred/m\n",
    "        b_1=b_1-dj_db*alpha1\n",
    "        if(abs(dj_db)<=1e-10 and all([abs(dj_dw[j])<=1e-10 for j in range(n)])): break\n",
    "        for j in range(n):\n",
    "            w_1[j]=w_1[j]-alpha1*dj_dw[j]\n",
    "        # return cost\n",
    "cost=[]\n",
    "gradient_descent(X_train[:10000],Y_train[:10000],w,b,cost_function,cost,1000,1e-6)\n",
    "# w,b=w_new,b_new\n",
    "print(w,\"\\n\",b)\n",
    "print(cost)\n",
    "\n",
    "    "
   ]
  },
  {
   "cell_type": "code",
   "execution_count": null,
   "id": "e70c38b2",
   "metadata": {},
   "outputs": [],
   "source": []
  }
 ],
 "metadata": {
  "kernelspec": {
   "display_name": "base",
   "language": "python",
   "name": "python3"
  },
  "language_info": {
   "codemirror_mode": {
    "name": "ipython",
    "version": 3
   },
   "file_extension": ".py",
   "mimetype": "text/x-python",
   "name": "python",
   "nbconvert_exporter": "python",
   "pygments_lexer": "ipython3",
   "version": "3.12.2"
  }
 },
 "nbformat": 4,
 "nbformat_minor": 5
}
