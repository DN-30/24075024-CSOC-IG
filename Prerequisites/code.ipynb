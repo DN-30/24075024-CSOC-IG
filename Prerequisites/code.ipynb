{
 "cells": [
  {
   "cell_type": "code",
   "execution_count": 7,
   "id": "8dd0dcb9",
   "metadata": {},
   "outputs": [],
   "source": [
    "import pandas as pd \n",
    "import numpy as np\n",
    "from statistics import mean ,stdev"
   ]
  },
  {
   "cell_type": "code",
   "execution_count": 10,
   "id": "6fa5df15",
   "metadata": {},
   "outputs": [
    {
     "ename": "FileNotFoundError",
     "evalue": "[Errno 2] No such file or directory: './data/housing.csv'",
     "output_type": "error",
     "traceback": [
      "\u001b[0;31m---------------------------------------------------------------------------\u001b[0m",
      "\u001b[0;31mFileNotFoundError\u001b[0m                         Traceback (most recent call last)",
      "Cell \u001b[0;32mIn[10], line 1\u001b[0m\n\u001b[0;32m----> 1\u001b[0m df\u001b[38;5;241m=\u001b[39mpd\u001b[38;5;241m.\u001b[39mread_csv(\u001b[38;5;124m'\u001b[39m\u001b[38;5;124m./data/housing.csv\u001b[39m\u001b[38;5;124m'\u001b[39m)\n\u001b[1;32m      2\u001b[0m df\u001b[38;5;241m.\u001b[39mhead()\n\u001b[1;32m      3\u001b[0m df\u001b[38;5;241m.\u001b[39mdropna(axis\u001b[38;5;241m=\u001b[39m\u001b[38;5;241m0\u001b[39m,inplace\u001b[38;5;241m=\u001b[39m  \u001b[38;5;28;01mTrue\u001b[39;00m)\n",
      "File \u001b[0;32m~/anaconda3/lib/python3.12/site-packages/pandas/io/parsers/readers.py:1026\u001b[0m, in \u001b[0;36mread_csv\u001b[0;34m(filepath_or_buffer, sep, delimiter, header, names, index_col, usecols, dtype, engine, converters, true_values, false_values, skipinitialspace, skiprows, skipfooter, nrows, na_values, keep_default_na, na_filter, verbose, skip_blank_lines, parse_dates, infer_datetime_format, keep_date_col, date_parser, date_format, dayfirst, cache_dates, iterator, chunksize, compression, thousands, decimal, lineterminator, quotechar, quoting, doublequote, escapechar, comment, encoding, encoding_errors, dialect, on_bad_lines, delim_whitespace, low_memory, memory_map, float_precision, storage_options, dtype_backend)\u001b[0m\n\u001b[1;32m   1013\u001b[0m kwds_defaults \u001b[38;5;241m=\u001b[39m _refine_defaults_read(\n\u001b[1;32m   1014\u001b[0m     dialect,\n\u001b[1;32m   1015\u001b[0m     delimiter,\n\u001b[0;32m   (...)\u001b[0m\n\u001b[1;32m   1022\u001b[0m     dtype_backend\u001b[38;5;241m=\u001b[39mdtype_backend,\n\u001b[1;32m   1023\u001b[0m )\n\u001b[1;32m   1024\u001b[0m kwds\u001b[38;5;241m.\u001b[39mupdate(kwds_defaults)\n\u001b[0;32m-> 1026\u001b[0m \u001b[38;5;28;01mreturn\u001b[39;00m _read(filepath_or_buffer, kwds)\n",
      "File \u001b[0;32m~/anaconda3/lib/python3.12/site-packages/pandas/io/parsers/readers.py:620\u001b[0m, in \u001b[0;36m_read\u001b[0;34m(filepath_or_buffer, kwds)\u001b[0m\n\u001b[1;32m    617\u001b[0m _validate_names(kwds\u001b[38;5;241m.\u001b[39mget(\u001b[38;5;124m\"\u001b[39m\u001b[38;5;124mnames\u001b[39m\u001b[38;5;124m\"\u001b[39m, \u001b[38;5;28;01mNone\u001b[39;00m))\n\u001b[1;32m    619\u001b[0m \u001b[38;5;66;03m# Create the parser.\u001b[39;00m\n\u001b[0;32m--> 620\u001b[0m parser \u001b[38;5;241m=\u001b[39m TextFileReader(filepath_or_buffer, \u001b[38;5;241m*\u001b[39m\u001b[38;5;241m*\u001b[39mkwds)\n\u001b[1;32m    622\u001b[0m \u001b[38;5;28;01mif\u001b[39;00m chunksize \u001b[38;5;129;01mor\u001b[39;00m iterator:\n\u001b[1;32m    623\u001b[0m     \u001b[38;5;28;01mreturn\u001b[39;00m parser\n",
      "File \u001b[0;32m~/anaconda3/lib/python3.12/site-packages/pandas/io/parsers/readers.py:1620\u001b[0m, in \u001b[0;36mTextFileReader.__init__\u001b[0;34m(self, f, engine, **kwds)\u001b[0m\n\u001b[1;32m   1617\u001b[0m     \u001b[38;5;28mself\u001b[39m\u001b[38;5;241m.\u001b[39moptions[\u001b[38;5;124m\"\u001b[39m\u001b[38;5;124mhas_index_names\u001b[39m\u001b[38;5;124m\"\u001b[39m] \u001b[38;5;241m=\u001b[39m kwds[\u001b[38;5;124m\"\u001b[39m\u001b[38;5;124mhas_index_names\u001b[39m\u001b[38;5;124m\"\u001b[39m]\n\u001b[1;32m   1619\u001b[0m \u001b[38;5;28mself\u001b[39m\u001b[38;5;241m.\u001b[39mhandles: IOHandles \u001b[38;5;241m|\u001b[39m \u001b[38;5;28;01mNone\u001b[39;00m \u001b[38;5;241m=\u001b[39m \u001b[38;5;28;01mNone\u001b[39;00m\n\u001b[0;32m-> 1620\u001b[0m \u001b[38;5;28mself\u001b[39m\u001b[38;5;241m.\u001b[39m_engine \u001b[38;5;241m=\u001b[39m \u001b[38;5;28mself\u001b[39m\u001b[38;5;241m.\u001b[39m_make_engine(f, \u001b[38;5;28mself\u001b[39m\u001b[38;5;241m.\u001b[39mengine)\n",
      "File \u001b[0;32m~/anaconda3/lib/python3.12/site-packages/pandas/io/parsers/readers.py:1880\u001b[0m, in \u001b[0;36mTextFileReader._make_engine\u001b[0;34m(self, f, engine)\u001b[0m\n\u001b[1;32m   1878\u001b[0m     \u001b[38;5;28;01mif\u001b[39;00m \u001b[38;5;124m\"\u001b[39m\u001b[38;5;124mb\u001b[39m\u001b[38;5;124m\"\u001b[39m \u001b[38;5;129;01mnot\u001b[39;00m \u001b[38;5;129;01min\u001b[39;00m mode:\n\u001b[1;32m   1879\u001b[0m         mode \u001b[38;5;241m+\u001b[39m\u001b[38;5;241m=\u001b[39m \u001b[38;5;124m\"\u001b[39m\u001b[38;5;124mb\u001b[39m\u001b[38;5;124m\"\u001b[39m\n\u001b[0;32m-> 1880\u001b[0m \u001b[38;5;28mself\u001b[39m\u001b[38;5;241m.\u001b[39mhandles \u001b[38;5;241m=\u001b[39m get_handle(\n\u001b[1;32m   1881\u001b[0m     f,\n\u001b[1;32m   1882\u001b[0m     mode,\n\u001b[1;32m   1883\u001b[0m     encoding\u001b[38;5;241m=\u001b[39m\u001b[38;5;28mself\u001b[39m\u001b[38;5;241m.\u001b[39moptions\u001b[38;5;241m.\u001b[39mget(\u001b[38;5;124m\"\u001b[39m\u001b[38;5;124mencoding\u001b[39m\u001b[38;5;124m\"\u001b[39m, \u001b[38;5;28;01mNone\u001b[39;00m),\n\u001b[1;32m   1884\u001b[0m     compression\u001b[38;5;241m=\u001b[39m\u001b[38;5;28mself\u001b[39m\u001b[38;5;241m.\u001b[39moptions\u001b[38;5;241m.\u001b[39mget(\u001b[38;5;124m\"\u001b[39m\u001b[38;5;124mcompression\u001b[39m\u001b[38;5;124m\"\u001b[39m, \u001b[38;5;28;01mNone\u001b[39;00m),\n\u001b[1;32m   1885\u001b[0m     memory_map\u001b[38;5;241m=\u001b[39m\u001b[38;5;28mself\u001b[39m\u001b[38;5;241m.\u001b[39moptions\u001b[38;5;241m.\u001b[39mget(\u001b[38;5;124m\"\u001b[39m\u001b[38;5;124mmemory_map\u001b[39m\u001b[38;5;124m\"\u001b[39m, \u001b[38;5;28;01mFalse\u001b[39;00m),\n\u001b[1;32m   1886\u001b[0m     is_text\u001b[38;5;241m=\u001b[39mis_text,\n\u001b[1;32m   1887\u001b[0m     errors\u001b[38;5;241m=\u001b[39m\u001b[38;5;28mself\u001b[39m\u001b[38;5;241m.\u001b[39moptions\u001b[38;5;241m.\u001b[39mget(\u001b[38;5;124m\"\u001b[39m\u001b[38;5;124mencoding_errors\u001b[39m\u001b[38;5;124m\"\u001b[39m, \u001b[38;5;124m\"\u001b[39m\u001b[38;5;124mstrict\u001b[39m\u001b[38;5;124m\"\u001b[39m),\n\u001b[1;32m   1888\u001b[0m     storage_options\u001b[38;5;241m=\u001b[39m\u001b[38;5;28mself\u001b[39m\u001b[38;5;241m.\u001b[39moptions\u001b[38;5;241m.\u001b[39mget(\u001b[38;5;124m\"\u001b[39m\u001b[38;5;124mstorage_options\u001b[39m\u001b[38;5;124m\"\u001b[39m, \u001b[38;5;28;01mNone\u001b[39;00m),\n\u001b[1;32m   1889\u001b[0m )\n\u001b[1;32m   1890\u001b[0m \u001b[38;5;28;01massert\u001b[39;00m \u001b[38;5;28mself\u001b[39m\u001b[38;5;241m.\u001b[39mhandles \u001b[38;5;129;01mis\u001b[39;00m \u001b[38;5;129;01mnot\u001b[39;00m \u001b[38;5;28;01mNone\u001b[39;00m\n\u001b[1;32m   1891\u001b[0m f \u001b[38;5;241m=\u001b[39m \u001b[38;5;28mself\u001b[39m\u001b[38;5;241m.\u001b[39mhandles\u001b[38;5;241m.\u001b[39mhandle\n",
      "File \u001b[0;32m~/anaconda3/lib/python3.12/site-packages/pandas/io/common.py:873\u001b[0m, in \u001b[0;36mget_handle\u001b[0;34m(path_or_buf, mode, encoding, compression, memory_map, is_text, errors, storage_options)\u001b[0m\n\u001b[1;32m    868\u001b[0m \u001b[38;5;28;01melif\u001b[39;00m \u001b[38;5;28misinstance\u001b[39m(handle, \u001b[38;5;28mstr\u001b[39m):\n\u001b[1;32m    869\u001b[0m     \u001b[38;5;66;03m# Check whether the filename is to be opened in binary mode.\u001b[39;00m\n\u001b[1;32m    870\u001b[0m     \u001b[38;5;66;03m# Binary mode does not support 'encoding' and 'newline'.\u001b[39;00m\n\u001b[1;32m    871\u001b[0m     \u001b[38;5;28;01mif\u001b[39;00m ioargs\u001b[38;5;241m.\u001b[39mencoding \u001b[38;5;129;01mand\u001b[39;00m \u001b[38;5;124m\"\u001b[39m\u001b[38;5;124mb\u001b[39m\u001b[38;5;124m\"\u001b[39m \u001b[38;5;129;01mnot\u001b[39;00m \u001b[38;5;129;01min\u001b[39;00m ioargs\u001b[38;5;241m.\u001b[39mmode:\n\u001b[1;32m    872\u001b[0m         \u001b[38;5;66;03m# Encoding\u001b[39;00m\n\u001b[0;32m--> 873\u001b[0m         handle \u001b[38;5;241m=\u001b[39m \u001b[38;5;28mopen\u001b[39m(\n\u001b[1;32m    874\u001b[0m             handle,\n\u001b[1;32m    875\u001b[0m             ioargs\u001b[38;5;241m.\u001b[39mmode,\n\u001b[1;32m    876\u001b[0m             encoding\u001b[38;5;241m=\u001b[39mioargs\u001b[38;5;241m.\u001b[39mencoding,\n\u001b[1;32m    877\u001b[0m             errors\u001b[38;5;241m=\u001b[39merrors,\n\u001b[1;32m    878\u001b[0m             newline\u001b[38;5;241m=\u001b[39m\u001b[38;5;124m\"\u001b[39m\u001b[38;5;124m\"\u001b[39m,\n\u001b[1;32m    879\u001b[0m         )\n\u001b[1;32m    880\u001b[0m     \u001b[38;5;28;01melse\u001b[39;00m:\n\u001b[1;32m    881\u001b[0m         \u001b[38;5;66;03m# Binary mode\u001b[39;00m\n\u001b[1;32m    882\u001b[0m         handle \u001b[38;5;241m=\u001b[39m \u001b[38;5;28mopen\u001b[39m(handle, ioargs\u001b[38;5;241m.\u001b[39mmode)\n",
      "\u001b[0;31mFileNotFoundError\u001b[0m: [Errno 2] No such file or directory: './data/housing.csv'"
     ]
    }
   ],
   "source": [
    "df=pd.read_csv('./data/housing.csv')\n",
    "df.head()\n",
    "df.dropna(axis=0,inplace=  True)"
   ]
  },
  {
   "cell_type": "code",
   "execution_count": 9,
   "id": "9a903381",
   "metadata": {},
   "outputs": [
    {
     "ename": "NameError",
     "evalue": "name 'df' is not defined",
     "output_type": "error",
     "traceback": [
      "\u001b[0;31m---------------------------------------------------------------------------\u001b[0m",
      "\u001b[0;31mNameError\u001b[0m                                 Traceback (most recent call last)",
      "Cell \u001b[0;32mIn[9], line 1\u001b[0m\n\u001b[0;32m----> 1\u001b[0m Y_train\u001b[38;5;241m=\u001b[39mdf[\u001b[38;5;124m'\u001b[39m\u001b[38;5;124mmedian_house_value\u001b[39m\u001b[38;5;124m'\u001b[39m]\n\u001b[1;32m      2\u001b[0m X_train\u001b[38;5;241m=\u001b[39mdf\u001b[38;5;241m.\u001b[39mdrop([\u001b[38;5;124m'\u001b[39m\u001b[38;5;124mmedian_house_value\u001b[39m\u001b[38;5;124m'\u001b[39m], axis\u001b[38;5;241m=\u001b[39m\u001b[38;5;241m1\u001b[39m)\n\u001b[1;32m      3\u001b[0m X_train\u001b[38;5;241m.\u001b[39mdrop(\u001b[38;5;124m'\u001b[39m\u001b[38;5;124mocean_proximity\u001b[39m\u001b[38;5;124m'\u001b[39m,axis\u001b[38;5;241m=\u001b[39m\u001b[38;5;241m1\u001b[39m,inplace\u001b[38;5;241m=\u001b[39m\u001b[38;5;28;01mTrue\u001b[39;00m)\n",
      "\u001b[0;31mNameError\u001b[0m: name 'df' is not defined"
     ]
    }
   ],
   "source": [
    "Y_train=df['median_house_value']\n",
    "X_train=df.drop(['median_house_value'], axis=1)\n",
    "X_train.drop('ocean_proximity',axis=1,inplace=True)\n",
    "features=X_train.columns.tolist()\n",
    "print(f\"{features=}\\n\")\n",
    "# print(X_train)\n",
    "for cols in X_train.columns:\n",
    "    mu=X_train[cols].mean()\n",
    "    std1=X_train[cols].std()\n",
    "    X_train[cols]=(X_train[cols]-mu)/std1\n",
    "print(\"Normalized Training Data:\")\n",
    "print(X_train)\n",
    "\n",
    "X_train=[col.tolist() for col in X_train[features].values] #  converting to list \n",
    "# print(X_train[0])\n",
    "\n",
    "Y_train=[col.tolist() for col in Y_train.values] #  converting to list\n",
    "# print(type(Y_train))\n",
    "\n",
    "\n",
    "print(len(X_train), len(Y_train)) # 20640 20640\n"
   ]
  },
  {
   "cell_type": "code",
   "execution_count": 249,
   "id": "f70d3223",
   "metadata": {},
   "outputs": [
    {
     "name": "stdout",
     "output_type": "stream",
     "text": [
      "8\n",
      "[0.12170489026168807, 0.6544701914042139, 0.19411432249035976, 0.5391512106904431, 0.45281163205970765, 0.1375766713924118, 0.6366619324396752, 0.5030026669551267] \n",
      " 0.9484271346299252\n"
     ]
    }
   ],
   "source": [
    "# now we have the training data in the form of a python list \n",
    "import random\n",
    "#INITIALZING WEIGHTS AND BIAS\n",
    "w=[random.random() for _ in range(len(features))]\n",
    "# [1, 1, 1, 1, 1, 1, 1, 1]\n",
    "print(len(w))\n",
    "b=random.random()\n",
    "print(w,\"\\n\",b)"
   ]
  },
  {
   "cell_type": "code",
   "execution_count": 250,
   "id": "481ad77f",
   "metadata": {},
   "outputs": [
    {
     "name": "stdout",
     "output_type": "stream",
     "text": [
      "w=[0.12170489026168807, 0.6544701914042139, 0.19411432249035976, 0.5391512106904431, 0.45281163205970765, 0.1375766713924118, 0.6366619324396752, 0.5030026669551267]\tb=0.9484271346299252\tcost=2.804e+10\n",
      "\n",
      "[-85062.6054361278, -90463.96182432663, 14606.758547260364, -17905.44898156323, 43287.41116259202, -44863.995639475055, 23924.151095401634, 76589.98567134453] \t 206995.79435140776 \t 2.426e+09\n"
     ]
    }
   ],
   "source": [
    "\n",
    "\n",
    "def cost_function(X_train,Y_train,w,b):\n",
    "    m=len(X_train)\n",
    "    n=len(X_train[0])\n",
    "    cost=0\n",
    "    for i in range(m):\n",
    "        pred=0\n",
    "        for j in range(n):\n",
    "            pred += X_train[i][j]*w[j]\n",
    "        cost+= (pred+b-Y_train[i])**2\n",
    "    return cost/(2*m)\n",
    "def gradient_descent(X_train,Y_train,w_1,b_1,cost_function,cost,iteration=1000,alpha1=1e-8):\n",
    "    \n",
    "    m=len(X_train)\n",
    "    n=len(X_train[0])\n",
    "\n",
    "    k=0\n",
    "    for p in range(iteration):\n",
    "        if(p%1000==0):\n",
    "            print(f\"w={w_1}\\tb={b_1}\\tcost={cost_function(X_train,Y_train,w_1,b_1):.3e}\\n\")\n",
    "        k+=1\n",
    "        dj_dw=[0 for _ in range(n)]\n",
    "        dj_db=0\n",
    "        for i in range(m):\n",
    "            pred=0\n",
    "            for j in range(n):\n",
    "                pred+= X_train[i][j]*w_1[j]\n",
    "            pred+=b_1\n",
    "            pred-=Y_train[i]\n",
    "            for j in range(n):\n",
    "                dj_dw[j]+=pred*X_train[i][j]/m\n",
    "            dj_db+=pred/m\n",
    "        b_1=b_1-dj_db*alpha1\n",
    "        if(abs(dj_db)<=1e-10 and all([abs(dj_dw[j])<=1e-10 for j in range(n)])): break\n",
    "        for j in range(n):\n",
    "            w_1[j]=w_1[j]-alpha1*dj_dw[j]\n",
    "    # print(f\"this is the final result : {b_1}\")\n",
    "    return (w_1,b_1)\n",
    "cost=[]\n",
    "w,b=gradient_descent(X_train[:20000],Y_train[:20000],w,b,cost_function,cost,1000,1e-1)\n",
    "print(w,\"\\t\",b,\"\\t\",f\"{cost_function(X_train[:20000],Y_train[:20000],w,b):.3e}\")\n",
    "    "
   ]
  },
  {
   "cell_type": "code",
   "execution_count": 219,
   "id": "e70c38b2",
   "metadata": {},
   "outputs": [
    {
     "name": "stdout",
     "output_type": "stream",
     "text": [
      "Finally:\n",
      "w=[-85652.46532770038, -90977.57089153933, 14607.158265423768, -18643.725389750765, 47634.004195410234, -44023.49482050911, 19502.216962031413, 76775.59579064867]\n",
      "b=206994.52121218716\n"
     ]
    }
   ],
   "source": [
    "print(f\"Finally:\\n{w=}\\n{b=}\")"
   ]
  },
  {
   "cell_type": "code",
   "execution_count": 284,
   "id": "d06c8de3",
   "metadata": {},
   "outputs": [
    {
     "name": "stdout",
     "output_type": "stream",
     "text": [
      "mae=46879.26299795479\n",
      "rmse=72309.99377149114\n",
      "r_2=0.5285752725726415\n"
     ]
    }
   ],
   "source": [
    "# testing\n",
    "def predict(X_test,Y_test,w,b):\n",
    "    m=len(X_test)\n",
    "    n=len(X_test[0])\n",
    "    mae=0\n",
    "    rmse=0\n",
    "    r_2=0\n",
    "    ss=0\n",
    "    for i in range(m):\n",
    "        pred=0\n",
    "        for j in range(n):\n",
    "            pred+=X_test[i][j]*w[j]\n",
    "        pred+=b\n",
    "        # print(sum,Y_test[i])\n",
    "        err=pred-Y_test[i]\n",
    "        ss+=(err**2)\n",
    "        mae+=abs(err)/m\n",
    "    # print(mae)\n",
    "    m1=mean(Y_test)\n",
    "    d1=0\n",
    "    for i in range(m):\n",
    "        d1+=(Y_test[i]-m1)**2\n",
    "    r_2=1-(ss/d1)\n",
    "    rmse=(ss/m)**0.5\n",
    "    print(f\"{mae=}\\n{rmse=}\\n{r_2=}\")\n",
    "\n",
    "    \n",
    "\n",
    "predict(X_train[20000:],Y_train[20000:],w,b)\n",
    "    "
   ]
  },
  {
   "cell_type": "markdown",
   "id": "cae88afb",
   "metadata": {},
   "source": [
    "NUMPY IMPLEMENTATION"
   ]
  },
  {
   "cell_type": "code",
   "execution_count": 4,
   "id": "15935399",
   "metadata": {},
   "outputs": [
    {
     "ename": "NameError",
     "evalue": "name 'X_train' is not defined",
     "output_type": "error",
     "traceback": [
      "\u001b[0;31m---------------------------------------------------------------------------\u001b[0m",
      "\u001b[0;31mNameError\u001b[0m                                 Traceback (most recent call last)",
      "Cell \u001b[0;32mIn[4], line 1\u001b[0m\n\u001b[0;32m----> 1\u001b[0m X_train_np\u001b[38;5;241m=\u001b[39mnp\u001b[38;5;241m.\u001b[39marray(X_train)\n\u001b[1;32m      2\u001b[0m Y_train_np\u001b[38;5;241m=\u001b[39mnp\u001b[38;5;241m.\u001b[39marray(Y_train)\n\u001b[1;32m      3\u001b[0m w\u001b[38;5;241m=\u001b[39mnp\u001b[38;5;241m.\u001b[39mrandom\u001b[38;5;241m.\u001b[39mrand(\u001b[38;5;28mlen\u001b[39m(X_train[\u001b[38;5;241m0\u001b[39m]))\n",
      "\u001b[0;31mNameError\u001b[0m: name 'X_train' is not defined"
     ]
    }
   ],
   "source": [
    "X_train_np=np.array(X_train)\n",
    "Y_train_np=np.array(Y_train)\n",
    "w=np.random.rand(len(X_train[0]))\n",
    "b=random.random()\n",
    "\n",
    "print(w,b)"
   ]
  },
  {
   "cell_type": "code",
   "execution_count": 5,
   "id": "c49e5cf2",
   "metadata": {},
   "outputs": [
    {
     "ename": "NameError",
     "evalue": "name 'X_train_np' is not defined",
     "output_type": "error",
     "traceback": [
      "\u001b[0;31m---------------------------------------------------------------------------\u001b[0m",
      "\u001b[0;31mNameError\u001b[0m                                 Traceback (most recent call last)",
      "Cell \u001b[0;32mIn[5], line 23\u001b[0m\n\u001b[1;32m     21\u001b[0m         b_1\u001b[38;5;241m-\u001b[39m\u001b[38;5;241m=\u001b[39malpha\u001b[38;5;241m*\u001b[39mdj_db\n\u001b[1;32m     22\u001b[0m     \u001b[38;5;28;01mreturn\u001b[39;00m (w_1,b_1)    \n\u001b[0;32m---> 23\u001b[0m w,b\u001b[38;5;241m=\u001b[39mg_descent_np(X_train_np[:\u001b[38;5;241m2000\u001b[39m],Y_train_np[:\u001b[38;5;241m2000\u001b[39m],w,b,cf_np,\u001b[38;5;241m10000\u001b[39m,\u001b[38;5;241m1e-2\u001b[39m)\n\u001b[1;32m     24\u001b[0m \u001b[38;5;28mprint\u001b[39m(w,b,\u001b[38;5;124mf\u001b[39m\u001b[38;5;124m\"\u001b[39m\u001b[38;5;132;01m{\u001b[39;00mcf_np(X_train_np[:\u001b[38;5;241m2000\u001b[39m],Y_train_np[:\u001b[38;5;241m2000\u001b[39m],w,b)\u001b[38;5;132;01m:\u001b[39;00m\u001b[38;5;124m.3e\u001b[39m\u001b[38;5;132;01m}\u001b[39;00m\u001b[38;5;124m\"\u001b[39m)\n",
      "\u001b[0;31mNameError\u001b[0m: name 'X_train_np' is not defined"
     ]
    }
   ],
   "source": [
    "def cf_np(X_train,Y_train,w,b):\n",
    "    cost=0\n",
    "    cost=np.dot(X_train,w)+b\n",
    "    cost-=Y_train\n",
    "    cost=cost**2\n",
    "    return np.sum(cost)/(len(X_train)*2)\n",
    "def g_descent_np(X_train,Y_train,w_1,b_1,cf_np,iteration=1000,alpha=1e-3):\n",
    "    m=len(X_train)\n",
    "    n=len(X_train[0])\n",
    "    for _ in range(1,iteration+1):\n",
    "        \n",
    "        if _ % 1000==0:\n",
    "            print(f\"{w_1=}\\t{b_1=}\\tcost={cf_np(X_train,Y_train,w_1,b_1):.3e}\")\n",
    "        dj_dw=np.zeros(len(X_train[0]))\n",
    "        dj_db=0\n",
    "        pred=np.dot(X_train,w_1)+b_1-Y_train\n",
    "        dj_dw=np.dot(X_train.T,pred)/m\n",
    "        dj_db=np.sum(pred)/m\n",
    "        if(abs(dj_db) <= 1e-9 and all([abs(i)<=1e-9 for i in dj_dw]) ) : break\n",
    "        w_1-=alpha*dj_dw\n",
    "        b_1-=alpha*dj_db\n",
    "    return (w_1,b_1)    \n",
    "w,b=g_descent_np(X_train_np[:2000],Y_train_np[:2000],w,b,cf_np,10000,1e-2)\n",
    "print(w,b,f\"{cf_np(X_train_np[:2000],Y_train_np[:2000],w,b):.3e}\")"
   ]
  },
  {
   "cell_type": "code",
   "execution_count": 6,
   "id": "377d1e87",
   "metadata": {},
   "outputs": [
    {
     "ename": "NameError",
     "evalue": "name 'X_train_np' is not defined",
     "output_type": "error",
     "traceback": [
      "\u001b[0;31m---------------------------------------------------------------------------\u001b[0m",
      "\u001b[0;31mNameError\u001b[0m                                 Traceback (most recent call last)",
      "Cell \u001b[0;32mIn[6], line 1\u001b[0m\n\u001b[0;32m----> 1\u001b[0m X_test\u001b[38;5;241m=\u001b[39mX_train_np[\u001b[38;5;241m2000\u001b[39m:]\n\u001b[1;32m      2\u001b[0m Y_test\u001b[38;5;241m=\u001b[39mY_train_np[\u001b[38;5;241m2000\u001b[39m:]\n\u001b[1;32m      3\u001b[0m \u001b[38;5;28;01mdef\u001b[39;00m \u001b[38;5;21mpredict\u001b[39m(X_test,Y_test,w,b):\n",
      "\u001b[0;31mNameError\u001b[0m: name 'X_train_np' is not defined"
     ]
    }
   ],
   "source": [
    "X_test=X_train_np[2000:]\n",
    "Y_test=Y_train_np[2000:]\n",
    "def predict(X_test,Y_test,w,b):\n",
    "    m=len(X_test)\n",
    "    n=len(X_test[0])\n",
    "    pred=np.dot(X_test,w)+b\n",
    "    err=pred-Y_test\n",
    "    mae=np.sum(abs(err))\n",
    "    rmse=np.sqrt(np.sum(err**2)/m) \n",
    "    ss=np.sum(err**2)\n",
    "    Y1=Y_test-np.mean(Y_test)\n",
    "    d=np.sum(Y1**2)\n",
    "    r_2=1-(ss/d)\n",
    "    return (mae , rmse , r_2)\n",
    "   \n",
    "mae,rmse,r_2=predict(X_test,Y_test,w,b)\n",
    "print(f\"{mae=}\\n{rmse=}\\n{r_2=}\")"
   ]
  },
  {
   "cell_type": "code",
   "execution_count": null,
   "id": "5410d623",
   "metadata": {},
   "outputs": [],
   "source": []
  }
 ],
 "metadata": {
  "kernelspec": {
   "display_name": "base",
   "language": "python",
   "name": "python3"
  },
  "language_info": {
   "codemirror_mode": {
    "name": "ipython",
    "version": 3
   },
   "file_extension": ".py",
   "mimetype": "text/x-python",
   "name": "python",
   "nbconvert_exporter": "python",
   "pygments_lexer": "ipython3",
   "version": "3.12.2"
  }
 },
 "nbformat": 4,
 "nbformat_minor": 5
}
